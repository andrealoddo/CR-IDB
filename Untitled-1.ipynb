{
 "cells": [
  {
   "cell_type": "code",
   "execution_count": 9,
   "metadata": {},
   "outputs": [
    {
     "name": "stdout",
     "output_type": "stream",
     "text": [
      "FattorieGennargentu-Conad\n",
      "FattorieGennargentu-Conad\\Day26\n",
      "FattorieGennargentu-Conad\\Day28\n",
      "FattorieGennargentu-Conad\\Day30\n",
      "FattorieGennargentu-Conad\\Day32\n",
      "FattorieGennargentu-Conad\\Day34\n",
      "CaseificioLattebusche-Conad\n",
      "CaseificioLattebusche-Conad\\SemiHard\n",
      "CaseificioLattebusche-Conad\\SemiHard\\NonTarget\n",
      "CaseificioLattebusche-Conad\\SemiHard\\Target\n",
      "CaseificioLattebusche-Conad\\Hard\n",
      "CaseificioLattebusche-Conad\\Hard\\Target\n",
      "CaseificioLattebusche-Conad\\Hard\\NonTarget\n",
      "CaseificioLattebusche-Conad\\ExtraHard\n",
      "CaseificioLattebusche-Conad\\ExtraHard\\Target\n",
      "CaseificioLattebusche-Conad\\ExtraHard\\NonTarget\n",
      "CaseificioPodda-Granarolo\n",
      "CaseificioPodda-Granarolo\\Day18\n",
      "CaseificioPodda-Granarolo\\Day22\n",
      "CaseificioPodda-Granarolo\\Day24\n",
      "CaseificioPodda-Granarolo\\Day30\n"
     ]
    }
   ],
   "source": [
    "import os\n",
    "from PIL import Image\n",
    "\n",
    "# Get the current path\n",
    "current_path = os.getcwd()\n",
    "\n",
    "# Walk through all the folders and subfolders in the current path and get all image files\n",
    "for root, dirs, files in os.walk(current_path):\n",
    "    \n",
    "    # keep only dirs not hidden\n",
    "    dirs = [d for d in dirs if not d[0] == '.']\n",
    "    \n",
    "    # Loop through all the dirs\n",
    "    for dir in dirs:\n",
    "        for r, d, f in os.walk(dir):\n",
    "            print(r)\n",
    "            # check if r contains images\n",
    "            for file in f:\n",
    "                if file.endswith(\".jpg\") or file.endswith(\".JPG\"):\n",
    "                    # Open the image file\n",
    "                    with Image.open(os.path.join(r, file)) as img:\n",
    "                        # resize the image to 1800x1800\n",
    "                        img = img.resize((1800, 1800))\n",
    "                        \n",
    "                        # if the filename contains \"crop_\" remove it\n",
    "                        if \"crop_\" in file:\n",
    "                            file = file.replace(\"crop_\", \"\")\n",
    "                            \n",
    "                        # Save the image file\n",
    "                        img.save(os.path.join(r, file))\n",
    "                else:\n",
    "                    print(f\"{os.path.join(r, file)} is not an image file\")"
   ]
  }
 ],
 "metadata": {
  "kernelspec": {
   "display_name": "DataScience",
   "language": "python",
   "name": "python3"
  },
  "language_info": {
   "codemirror_mode": {
    "name": "ipython",
    "version": 3
   },
   "file_extension": ".py",
   "mimetype": "text/x-python",
   "name": "python",
   "nbconvert_exporter": "python",
   "pygments_lexer": "ipython3",
   "version": "3.9.13"
  }
 },
 "nbformat": 4,
 "nbformat_minor": 2
}
